{
 "cells": [
  {
   "cell_type": "code",
   "execution_count": 2,
   "metadata": {},
   "outputs": [],
   "source": [
    "import yfinance as yf\n",
    "import pandas as pd\n",
    "import numpy as np\n",
    "import matplotlib.pyplot as plt"
   ]
  },
  {
   "cell_type": "code",
   "execution_count": 3,
   "metadata": {},
   "outputs": [
    {
     "name": "stderr",
     "output_type": "stream",
     "text": [
      "/tmp/ipykernel_18975/3921295890.py:1: FutureWarning: YF.download() has changed argument auto_adjust default to True\n",
      "  data = yf.download('AAPL', interval='60m', period='30d')\n",
      "[*********************100%***********************]  1 of 1 completed"
     ]
    },
    {
     "name": "stdout",
     "output_type": "stream",
     "text": [
      "Price                           Close        High         Low        Open  \\\n",
      "Ticker                           AAPL        AAPL        AAPL        AAPL   \n",
      "Datetime                                                                    \n",
      "2025-06-04 13:30:00+00:00  205.139999  206.240005  202.650803  203.449997   \n",
      "2025-06-04 14:30:00+00:00  204.089996  205.179993  203.990097  205.119995   \n",
      "2025-06-04 15:30:00+00:00  202.830002  204.600006  202.149994  204.089996   \n",
      "2025-06-04 16:30:00+00:00  203.414993  203.589996  202.615005  202.820007   \n",
      "2025-06-04 17:30:00+00:00  203.119995  203.470001  202.850006  203.412003   \n",
      "\n",
      "Price                        Volume  \n",
      "Ticker                         AAPL  \n",
      "Datetime                             \n",
      "2025-06-04 13:30:00+00:00  12614073  \n",
      "2025-06-04 14:30:00+00:00   4439145  \n",
      "2025-06-04 15:30:00+00:00   7130175  \n",
      "2025-06-04 16:30:00+00:00   2639222  \n",
      "2025-06-04 17:30:00+00:00   2609590  \n"
     ]
    },
    {
     "name": "stderr",
     "output_type": "stream",
     "text": [
      "\n"
     ]
    }
   ],
   "source": [
    "data = yf.download('AAPL', interval='60m', period='30d')\n",
    "print(data.head())"
   ]
  },
  {
   "cell_type": "code",
   "execution_count": null,
   "metadata": {},
   "outputs": [],
   "source": []
  }
 ],
 "metadata": {
  "kernelspec": {
   "display_name": "Python 3",
   "language": "python",
   "name": "python3"
  },
  "language_info": {
   "codemirror_mode": {
    "name": "ipython",
    "version": 3
   },
   "file_extension": ".py",
   "mimetype": "text/x-python",
   "name": "python",
   "nbconvert_exporter": "python",
   "pygments_lexer": "ipython3",
   "version": "3.12.11"
  }
 },
 "nbformat": 4,
 "nbformat_minor": 2
}
